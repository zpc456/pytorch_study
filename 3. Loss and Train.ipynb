{
 "cells": [
  {
   "cell_type": "code",
   "execution_count": null,
   "id": "98885608",
   "metadata": {
    "pycharm": {
     "is_executing": true
    }
   },
   "outputs": [],
   "source": [
    "import torch\n",
    "import torchvision\n",
    "import torchvision.transforms as transforms"
   ]
  },
  {
   "cell_type": "code",
   "execution_count": 22,
   "id": "d932e235",
   "metadata": {},
   "outputs": [
    {
     "name": "stdout",
     "output_type": "stream",
     "text": [
      "Files already downloaded and verified\n",
      "Files already downloaded and verified\n"
     ]
    }
   ],
   "source": [
    "transform = transforms.Compose(\n",
    "    [transforms.ToTensor(),\n",
    "#      transforms.RandomHorizontalFlip(),\n",
    "     transforms.Normalize((0.5, 0.5, 0.5), (0.5, 0.5, 0.5))\n",
    "    ])\n",
    "\n",
    "batch_size = 4\n",
    "\n",
    "trainset = torchvision.datasets.CIFAR10(root='./dataset/', train=True,\n",
    "                                        download=True, transform=transform)\n",
    "trainloader = torch.utils.data.DataLoader(trainset, batch_size=batch_size,\n",
    "                                          shuffle=True, num_workers=2)\n",
    "\n",
    "testset = torchvision.datasets.CIFAR10(root='./dataset/', train=False,\n",
    "                                       download=True, transform=transform)\n",
    "testloader = torch.utils.data.DataLoader(testset, batch_size=batch_size,\n",
    "                                         shuffle=False, num_workers=2)\n",
    "\n",
    "classes = ('plane', 'car', 'bird', 'cat',\n",
    "           'deer', 'dog', 'frog', 'horse', 'ship', 'truck')"
   ]
  },
  {
   "cell_type": "code",
   "execution_count": 23,
   "id": "974fbe91",
   "metadata": {},
   "outputs": [],
   "source": [
    "a = trainloader.__iter__().__next__()"
   ]
  },
  {
   "cell_type": "code",
   "execution_count": 24,
   "id": "3d77ad0a",
   "metadata": {},
   "outputs": [
    {
     "name": "stderr",
     "output_type": "stream",
     "text": [
      "Clipping input data to the valid range for imshow with RGB data ([0..1] for floats or [0..255] for integers).\n"
     ]
    },
    {
     "data": {
      "text/plain": [
       "<matplotlib.image.AxesImage at 0x7f8431a9fd00>"
      ]
     },
     "execution_count": 24,
     "metadata": {},
     "output_type": "execute_result"
    },
    {
     "data": {
      "image/png": "[encoded data removed]",
      "text/plain": [
       "<Figure size 432x288 with 1 Axes>"
      ]
     },
     "metadata": {
      "needs_background": "light"
     },
     "output_type": "display_data"
    }
   ],
   "source": [
    "from matplotlib import pyplot as plt\n",
    "plt.imshow(a[0][0,...].permute(1,2,0))"
   ]
  },
  {
   "cell_type": "markdown",
   "id": "f50e5cd6",
   "metadata": {},
   "source": [
    "### Define Network"
   ]
  },
  {
   "cell_type": "markdown",
   "id": "220ea964",
   "metadata": {},
   "source": [
    "torch.Size([4, 3, 32, 32])\n",
    "torch.Size([4, 6, 14, 14])\n",
    "torch.Size([4, 16, 5, 5])\n",
    "torch.Size([4, 400])\n",
    "torch.Size([4, 120])\n",
    "torch.Size([4, 84])"
   ]
  },
  {
   "cell_type": "code",
   "execution_count": 29,
   "id": "c725efba",
   "metadata": {},
   "outputs": [],
   "source": [
    "import torch.nn as nn\n",
    "import torch.nn.functional as F\n",
    "\n",
    "\n",
    "class Net(nn.Module):\n",
    "    def __init__(self):\n",
    "        super().__init__()\n",
    "        self.conv1 = nn.Conv2d(3, 10, 5)\n",
    "        self.pool = nn.MaxPool2d(2, 2)\n",
    "        self.conv2 = nn.Conv2d(10, 20, 5)\n",
    "        self.conv3 = nn.Conv2d(20, 50, 3, padding=1)\n",
    "        self.fc1 = nn.Linear(50 * 5 * 5, 600)\n",
    "        self.fc2 = nn.Linear(600, 100)\n",
    "        self.fc3 = nn.Linear(100, 10)\n",
    "\n",
    "    def forward(self, x):\n",
    "#         print(x.shape)\n",
    "        x = self.pool(F.relu(self.conv1(x)))#[10, 14, 14]\n",
    "#         print(x.shape)\n",
    "        x = self.pool(F.relu(self.conv2(x)))#[20, 5, 5]\n",
    "        x = F.relu(self.conv3(x))#[50, 5, 5]\n",
    "#         print(x.shape)\n",
    "        x = torch.flatten(x, 1) # flatten all dimensions except batch\n",
    "#         print(x.shape)\n",
    "        x = F.relu(self.fc1(x))\n",
    "#         print(x.shape)\n",
    "        x = F.relu(self.fc2(x))\n",
    "#         print(x.shape)\n",
    "        x = self.fc3(x)\n",
    "        return x\n",
    "\n",
    "\n",
    "net = Net()"
   ]
  },
  {
   "cell_type": "markdown",
   "id": "955115d7",
   "metadata": {},
   "source": [
    "### Define Loss Function"
   ]
  },
  {
   "cell_type": "code",
   "execution_count": 30,
   "id": "fca48f90",
   "metadata": {},
   "outputs": [],
   "source": [
    "import torch.optim as optim\n",
    "\n",
    "criterion = nn.CrossEntropyLoss()\n",
    "optimizer = optim.SGD(net.parameters(), lr=0.001, momentum=0.9)"
   ]
  },
  {
   "cell_type": "markdown",
   "id": "64e0ee03",
   "metadata": {},
   "source": [
    "### Train the Network"
   ]
  },
  {
   "cell_type": "code",
   "execution_count": 33,
   "id": "09be9aaa",
   "metadata": {},
   "outputs": [
    {
     "name": "stdout",
     "output_type": "stream",
     "text": [
      "[1,  2000] loss: 1.416\n",
      "[1,  4000] loss: 1.366\n",
      "[1,  6000] loss: 1.329\n",
      "[1,  8000] loss: 1.288\n",
      "[1, 10000] loss: 1.283\n",
      "[1, 12000] loss: 1.235\n",
      "[2,  2000] loss: 1.184\n",
      "[2,  4000] loss: 1.163\n",
      "[2,  6000] loss: 1.131\n",
      "[2,  8000] loss: 1.148\n",
      "[2, 10000] loss: 1.136\n",
      "[2, 12000] loss: 1.102\n",
      "[3,  2000] loss: 1.037\n",
      "[3,  4000] loss: 1.031\n",
      "[3,  6000] loss: 1.039\n",
      "[3,  8000] loss: 1.031\n",
      "[3, 10000] loss: 1.050\n",
      "[3, 12000] loss: 1.018\n",
      "[4,  2000] loss: 0.948\n",
      "[4,  4000] loss: 0.950\n",
      "[4,  6000] loss: 0.959\n",
      "[4,  8000] loss: 0.956\n",
      "[4, 10000] loss: 0.949\n",
      "[4, 12000] loss: 0.942\n",
      "[5,  2000] loss: 0.874\n",
      "[5,  4000] loss: 0.874\n",
      "[5,  6000] loss: 0.882\n",
      "[5,  8000] loss: 0.869\n",
      "[5, 10000] loss: 0.877\n",
      "[5, 12000] loss: 0.876\n",
      "[6,  2000] loss: 0.815\n",
      "[6,  4000] loss: 0.817\n",
      "[6,  6000] loss: 0.804\n",
      "[6,  8000] loss: 0.828\n",
      "[6, 10000] loss: 0.806\n",
      "[6, 12000] loss: 0.833\n",
      "[7,  2000] loss: 0.749\n",
      "[7,  4000] loss: 0.754\n",
      "[7,  6000] loss: 0.749\n",
      "[7,  8000] loss: 0.763\n",
      "[7, 10000] loss: 0.795\n",
      "[7, 12000] loss: 0.790\n",
      "[8,  2000] loss: 0.686\n",
      "[8,  4000] loss: 0.716\n",
      "[8,  6000] loss: 0.721\n",
      "[8,  8000] loss: 0.728\n",
      "[8, 10000] loss: 0.717\n",
      "[8, 12000] loss: 0.752\n",
      "[9,  2000] loss: 0.646\n",
      "[9,  4000] loss: 0.673\n",
      "[9,  6000] loss: 0.683\n",
      "[9,  8000] loss: 0.700\n",
      "[9, 10000] loss: 0.683\n",
      "[9, 12000] loss: 0.691\n",
      "[10,  2000] loss: 0.601\n",
      "[10,  4000] loss: 0.615\n",
      "[10,  6000] loss: 0.627\n",
      "[10,  8000] loss: 0.653\n",
      "[10, 10000] loss: 0.661\n",
      "[10, 12000] loss: 0.673\n",
      "Finished Training\n"
     ]
    }
   ],
   "source": [
    "for epoch in range(10):  # loop over the dataset multiple times\n",
    "\n",
    "    running_loss = 0.0\n",
    "    for i, data in enumerate(trainloader, 0):\n",
    "        # get the inputs; data is a list of [inputs, labels]\n",
    "        inputs, labels = data\n",
    "\n",
    "        # zero the parameter gradients\n",
    "        optimizer.zero_grad()\n",
    "\n",
    "        # forward + backward + optimize\n",
    "        outputs = net(inputs)\n",
    "        loss = criterion(outputs, labels)\n",
    "        loss.backward()\n",
    "        optimizer.step()\n",
    "\n",
    "        # print statistics\n",
    "        running_loss += loss.item()\n",
    "        if i % 2000 == 1999:    # print every 2000 mini-batches\n",
    "            print(f'[{epoch + 1}, {i + 1:5d}] loss: {running_loss / 2000:.3f}')\n",
    "            running_loss = 0.0\n",
    "\n",
    "print('Finished Training')"
   ]
  },
  {
   "cell_type": "markdown",
   "id": "ae8762ae",
   "metadata": {},
   "source": [
    "### Test Network"
   ]
  },
  {
   "cell_type": "code",
   "execution_count": null,
   "id": "642fc457",
   "metadata": {
    "pycharm": {
     "is_executing": true
    }
   },
   "outputs": [],
   "source": [
    "correct = 0\n",
    "total = 0\n",
    "# since we're not training, we don't need to calculate the gradients for our outputs\n",
    "with torch.no_grad():\n",
    "    for data in testloader:\n",
    "        images, labels = data\n",
    "        # calculate outputs by running images through the network\n",
    "        outputs = net(images)\n",
    "        # the class with the highest energy is what we choose as prediction\n",
    "        _, predicted = torch.max(outputs.data, 1)\n",
    "        total += labels.size(0)\n",
    "        correct += (predicted == labels).sum().item()\n",
    "\n",
    "print(f'Accuracy of the network on the 10000 test images: {100 * correct // total} %')"
   ]
  },
  {
   "cell_type": "markdown",
   "id": "ed95a712",
   "metadata": {},
   "source": [
    "|epoch|acc|\n",
    "|:----:|:----:|\n",
    "|1|49%|\n",
    "|2|54%|\n",
    "|20|59%|"
   ]
  },
  {
   "cell_type": "code",
   "execution_count": null,
   "id": "733e1217",
   "metadata": {
    "pycharm": {
     "is_executing": true
    }
   },
   "outputs": [],
   "source": []
  },
  {
   "cell_type": "code",
   "execution_count": null,
   "outputs": [],
   "source": [],
   "metadata": {
    "collapsed": false,
    "pycharm": {
     "name": "#%%\n"
    }
   }
  }
 ],
 "metadata": {
  "hide_input": false,
  "kernelspec": {
   "name": "conda-env-pytorch-py",
   "language": "python",
   "display_name": "Python [conda env:pytorch] *"
  },
  "language_info": {
   "codemirror_mode": {
    "name": "ipython",
    "version": 3
   },
   "file_extension": ".py",
   "mimetype": "text/x-python",
   "name": "python",
   "nbconvert_exporter": "python",
   "pygments_lexer": "ipython3",
   "version": "3.8.3"
  }
 },
 "nbformat": 4,
 "nbformat_minor": 5
}