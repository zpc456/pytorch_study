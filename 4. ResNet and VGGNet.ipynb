{
 "cells": [
  {
   "cell_type": "code",
   "execution_count": 1,
   "id": "98885608",
   "metadata": {},
   "outputs": [],
   "source": [
    "import torch\n",
    "import torchvision\n",
    "import torchvision.transforms as transforms\n",
    "from tqdm import tqdm"
   ]
  },
  {
   "cell_type": "markdown",
   "id": "90fac795",
   "metadata": {},
   "source": [
    "## ResNet"
   ]
  },
  {
   "cell_type": "code",
   "execution_count": 2,
   "id": "d932e235",
   "metadata": {},
   "outputs": [
    {
     "name": "stdout",
     "output_type": "stream",
     "text": [
      "Files already downloaded and verified\n",
      "Files already downloaded and verified\n"
     ]
    }
   ],
   "source": [
    "transform = transforms.Compose(\n",
    "    [transforms.ToTensor(),\n",
    "#      transforms.RandomHorizontalFlip(),\n",
    "     transforms.Normalize((0.5, 0.5, 0.5), (0.5, 0.5, 0.5))\n",
    "    ])\n",
    "\n",
    "batch_size = 4\n",
    "\n",
    "trainset = torchvision.datasets.CIFAR10(root='./dataset/', train=True,\n",
    "                                        download=True, transform=transform)\n",
    "trainloader = torch.utils.data.DataLoader(trainset, batch_size=batch_size,\n",
    "                                          shuffle=True, num_workers=2)\n",
    "\n",
    "testset = torchvision.datasets.CIFAR10(root='./dataset/', train=False,\n",
    "                                       download=True, transform=transform)\n",
    "testloader = torch.utils.data.DataLoader(testset, batch_size=batch_size,\n",
    "                                         shuffle=False, num_workers=2)\n",
    "\n",
    "classes = ('plane', 'car', 'bird', 'cat',\n",
    "           'deer', 'dog', 'frog', 'horse', 'ship', 'truck')"
   ]
  },
  {
   "cell_type": "markdown",
   "id": "f50e5cd6",
   "metadata": {},
   "source": [
    "### Define ResNet"
   ]
  },
  {
   "cell_type": "code",
   "execution_count": 3,
   "id": "c725efba",
   "metadata": {},
   "outputs": [],
   "source": [
    "import torch.nn as nn\n",
    "import torch.nn.functional as F\n",
    "\n",
    "net = torchvision.models.resnet50(pretrained=True)\n",
    "net.fc = nn.Linear(2048, 10, bias=True)"
   ]
  },
  {
   "cell_type": "markdown",
   "id": "955115d7",
   "metadata": {},
   "source": [
    "### Define Loss Function"
   ]
  },
  {
   "cell_type": "code",
   "execution_count": 4,
   "id": "fca48f90",
   "metadata": {},
   "outputs": [],
   "source": [
    "import torch.optim as optim\n",
    "\n",
    "criterion = nn.CrossEntropyLoss()\n",
    "optimizer = optim.SGD(net.parameters(), lr=0.001, momentum=0.9)"
   ]
  },
  {
   "cell_type": "markdown",
   "id": "64e0ee03",
   "metadata": {},
   "source": [
    "### Train the Network"
   ]
  },
  {
   "cell_type": "code",
   "execution_count": 5,
   "id": "e774dfcb",
   "metadata": {},
   "outputs": [
    {
     "data": {
      "text/plain": [
       "50000"
      ]
     },
     "execution_count": 5,
     "metadata": {},
     "output_type": "execute_result"
    }
   ],
   "source": [
    "len(trainset)"
   ]
  },
  {
   "cell_type": "code",
   "execution_count": 7,
   "id": "09be9aaa",
   "metadata": {},
   "outputs": [
    {
     "name": "stderr",
     "output_type": "stream",
     "text": [
      "\n",
      "  0%|                                                 | 0/50000 [00:00<?, ?it/s]\u001b[A[W NNPACK.cpp:80] Could not initialize NNPACK! Reason: Unsupported hardware.\n",
      "\n",
      "  0%|                                       | 1/50000 [00:00<5:44:16,  2.42it/s]\u001b[A\n",
      "  0%|                                       | 2/50000 [00:00<4:33:21,  3.05it/s]\u001b[A\n",
      "  0%|                                       | 3/50000 [00:00<4:06:03,  3.39it/s]\u001b[A\n",
      "  0%|                                       | 4/50000 [00:01<3:51:17,  3.60it/s]\u001b[A\n",
      "  0%|                                       | 5/50000 [00:01<3:43:14,  3.73it/s]\u001b[A\n",
      "  0%|                                       | 6/50000 [00:01<3:37:22,  3.83it/s]\u001b[A\n",
      "  0%|                                       | 7/50000 [00:01<3:34:36,  3.88it/s]\u001b[A\n",
      "  0%|                                       | 8/50000 [00:02<3:32:23,  3.92it/s]\u001b[A\n",
      "  0%|                                       | 9/50000 [00:02<3:30:48,  3.95it/s]\u001b[A\n",
      "  0%|                                      | 10/50000 [00:02<3:29:38,  3.97it/s]\u001b[A\n",
      "  0%|                                      | 11/50000 [00:02<3:28:37,  3.99it/s]\u001b[A\n",
      "  0%|                                      | 12/50000 [00:03<3:27:36,  4.01it/s]\u001b[A\n",
      "  0%|                                      | 13/50000 [00:03<3:27:24,  4.02it/s]\u001b[A\n",
      "  0%|                                      | 14/50000 [00:03<3:27:34,  4.01it/s]\u001b[A\n",
      "  0%|                                      | 15/50000 [00:03<3:26:59,  4.02it/s]\u001b[A\n",
      "  0%|                                      | 16/50000 [00:04<3:26:42,  4.03it/s]\u001b[A\n",
      "  0%|                                      | 17/50000 [00:04<3:26:10,  4.04it/s]\u001b[A\n",
      "  0%|                                      | 18/50000 [00:04<3:26:11,  4.04it/s]\u001b[A\n",
      "  0%|                                      | 19/50000 [00:04<3:26:31,  4.03it/s]\u001b[A\n",
      "  0%|                                      | 20/50000 [00:05<3:26:30,  4.03it/s]\u001b[A\n",
      "  0%|                                      | 21/50000 [00:05<3:26:51,  4.03it/s]\u001b[A\n",
      "  0%|                                      | 22/50000 [00:05<3:26:24,  4.04it/s]\u001b[A\n",
      "  0%|                                      | 23/50000 [00:05<3:25:54,  4.05it/s]\u001b[A\n",
      "  0%|                                      | 24/50000 [00:06<3:26:04,  4.04it/s]\u001b[A\n",
      "  0%|                                      | 25/50000 [00:06<3:26:18,  4.04it/s]\u001b[A\n",
      "  0%|                                      | 26/50000 [00:06<3:25:40,  4.05it/s]\u001b[A\n",
      "  0%|                                      | 27/50000 [00:06<3:25:59,  4.04it/s]\u001b[A\n",
      "  0%|                                      | 28/50000 [00:07<3:25:39,  4.05it/s]\u001b[A\n",
      "  0%|                                      | 29/50000 [00:07<3:25:40,  4.05it/s]\u001b[A\n",
      "  0%|                                      | 30/50000 [00:07<3:25:52,  4.05it/s]\u001b[A\n",
      "  0%|                                      | 31/50000 [00:07<3:26:10,  4.04it/s]\u001b[A\n",
      "  0%|                                      | 32/50000 [00:08<3:26:42,  4.03it/s]\u001b[A\n",
      "  0%|                                      | 33/50000 [00:08<3:27:22,  4.02it/s]\u001b[A\n",
      "  0%|                                      | 34/50000 [00:08<3:27:06,  4.02it/s]\u001b[A\n",
      "  0%|                                      | 35/50000 [00:08<3:27:22,  4.02it/s]\u001b[A\n",
      "  0%|                                      | 36/50000 [00:09<3:27:24,  4.01it/s]\u001b[A\n",
      "  0%|                                      | 37/50000 [00:09<3:28:26,  3.99it/s]\u001b[A\n",
      "  0%|                                      | 38/50000 [00:09<3:27:28,  4.01it/s]\u001b[A\n",
      "  0%|                                      | 39/50000 [00:09<3:26:51,  4.03it/s]\u001b[A\n",
      "  0%|                                      | 40/50000 [00:10<3:26:27,  4.03it/s]\u001b[A\n",
      "  0%|                                      | 41/50000 [00:10<3:26:46,  4.03it/s]\u001b[A\n",
      "  0%|                                      | 42/50000 [00:10<3:26:00,  4.04it/s]\u001b[A\n",
      "  0%|                                      | 43/50000 [00:10<3:26:30,  4.03it/s]\u001b[A\n",
      "  0%|                                      | 44/50000 [00:11<3:26:04,  4.04it/s]\u001b[A\n",
      "  0%|                                      | 45/50000 [00:11<3:26:11,  4.04it/s]\u001b[A\n",
      "  0%|                                      | 46/50000 [00:11<3:26:45,  4.03it/s]\u001b[A\n",
      "  0%|                                      | 47/50000 [00:11<3:27:39,  4.01it/s]\u001b[A\n",
      "  0%|                                      | 48/50000 [00:12<3:27:56,  4.00it/s]\u001b[A\n",
      "  0%|                                      | 49/50000 [00:12<3:27:22,  4.01it/s]\u001b[A\n",
      "  0%|                                      | 50/50000 [00:12<3:27:38,  4.01it/s]\u001b[A\n",
      "  0%|                                      | 51/50000 [00:12<3:27:59,  4.00it/s]\u001b[A\n",
      "  0%|                                      | 52/50000 [00:13<3:27:34,  4.01it/s]\u001b[A\n",
      "  0%|                                      | 53/50000 [00:13<3:27:44,  4.01it/s]\u001b[A\n",
      "  0%|                                      | 54/50000 [00:13<3:27:03,  4.02it/s]\u001b[A\n",
      "  0%|                                      | 55/50000 [00:13<3:26:30,  4.03it/s]\u001b[A\n",
      "  0%|                                      | 56/50000 [00:14<3:25:53,  4.04it/s]\u001b[A\n",
      "  0%|                                      | 57/50000 [00:14<3:26:24,  4.03it/s]\u001b[A\n",
      "  0%|                                      | 58/50000 [00:14<3:26:46,  4.03it/s]\u001b[A\n",
      "  0%|                                      | 59/50000 [00:14<3:27:29,  4.01it/s]\u001b[A\n",
      "  0%|                                      | 60/50000 [00:15<3:27:46,  4.01it/s]\u001b[A\n",
      "  0%|                                      | 61/50000 [00:15<3:27:38,  4.01it/s]\u001b[A\n",
      "  0%|                                      | 62/50000 [00:15<3:27:24,  4.01it/s]\u001b[A\n",
      "  0%|                                      | 63/50000 [00:15<3:27:31,  4.01it/s]\u001b[A\n",
      "  0%|                                      | 64/50000 [00:16<3:27:59,  4.00it/s]\u001b[A\n",
      "  0%|                                      | 65/50000 [00:16<3:30:17,  3.96it/s]\u001b[A\n",
      "  0%|                                      | 66/50000 [00:16<3:29:56,  3.96it/s]\u001b[A\n",
      "  0%|                                      | 67/50000 [00:17<3:32:28,  3.92it/s]\u001b[A\n"
     ]
    },
    {
     "ename": "KeyboardInterrupt",
     "evalue": "",
     "output_type": "error",
     "traceback": [
      "\u001b[0;31m---------------------------------------------------------------------------\u001b[0m",
      "\u001b[0;31mKeyboardInterrupt\u001b[0m                         Traceback (most recent call last)",
      "Input \u001b[0;32mIn [7]\u001b[0m, in \u001b[0;36m<cell line: 1>\u001b[0;34m()\u001b[0m\n\u001b[1;32m     12\u001b[0m outputs \u001b[38;5;241m=\u001b[39m net(inputs)\n\u001b[1;32m     13\u001b[0m loss \u001b[38;5;241m=\u001b[39m criterion(outputs, labels)\n\u001b[0;32m---> 14\u001b[0m \u001b[43mloss\u001b[49m\u001b[38;5;241;43m.\u001b[39;49m\u001b[43mbackward\u001b[49m\u001b[43m(\u001b[49m\u001b[43m)\u001b[49m\n\u001b[1;32m     15\u001b[0m optimizer\u001b[38;5;241m.\u001b[39mstep()\n\u001b[1;32m     17\u001b[0m \u001b[38;5;66;03m# print statistics\u001b[39;00m\n",
      "File \u001b[0;32m/opt/anaconda3/lib/python3.8/site-packages/torch/tensor.py:245\u001b[0m, in \u001b[0;36mTensor.backward\u001b[0;34m(self, gradient, retain_graph, create_graph, inputs)\u001b[0m\n\u001b[1;32m    236\u001b[0m \u001b[38;5;28;01mif\u001b[39;00m has_torch_function_unary(\u001b[38;5;28mself\u001b[39m):\n\u001b[1;32m    237\u001b[0m     \u001b[38;5;28;01mreturn\u001b[39;00m handle_torch_function(\n\u001b[1;32m    238\u001b[0m         Tensor\u001b[38;5;241m.\u001b[39mbackward,\n\u001b[1;32m    239\u001b[0m         (\u001b[38;5;28mself\u001b[39m,),\n\u001b[0;32m   (...)\u001b[0m\n\u001b[1;32m    243\u001b[0m         create_graph\u001b[38;5;241m=\u001b[39mcreate_graph,\n\u001b[1;32m    244\u001b[0m         inputs\u001b[38;5;241m=\u001b[39minputs)\n\u001b[0;32m--> 245\u001b[0m \u001b[43mtorch\u001b[49m\u001b[38;5;241;43m.\u001b[39;49m\u001b[43mautograd\u001b[49m\u001b[38;5;241;43m.\u001b[39;49m\u001b[43mbackward\u001b[49m\u001b[43m(\u001b[49m\u001b[38;5;28;43mself\u001b[39;49m\u001b[43m,\u001b[49m\u001b[43m \u001b[49m\u001b[43mgradient\u001b[49m\u001b[43m,\u001b[49m\u001b[43m \u001b[49m\u001b[43mretain_graph\u001b[49m\u001b[43m,\u001b[49m\u001b[43m \u001b[49m\u001b[43mcreate_graph\u001b[49m\u001b[43m,\u001b[49m\u001b[43m \u001b[49m\u001b[43minputs\u001b[49m\u001b[38;5;241;43m=\u001b[39;49m\u001b[43minputs\u001b[49m\u001b[43m)\u001b[49m\n",
      "File \u001b[0;32m/opt/anaconda3/lib/python3.8/site-packages/torch/autograd/__init__.py:145\u001b[0m, in \u001b[0;36mbackward\u001b[0;34m(tensors, grad_tensors, retain_graph, create_graph, grad_variables, inputs)\u001b[0m\n\u001b[1;32m    142\u001b[0m \u001b[38;5;28;01mif\u001b[39;00m retain_graph \u001b[38;5;129;01mis\u001b[39;00m \u001b[38;5;28;01mNone\u001b[39;00m:\n\u001b[1;32m    143\u001b[0m     retain_graph \u001b[38;5;241m=\u001b[39m create_graph\n\u001b[0;32m--> 145\u001b[0m \u001b[43mVariable\u001b[49m\u001b[38;5;241;43m.\u001b[39;49m\u001b[43m_execution_engine\u001b[49m\u001b[38;5;241;43m.\u001b[39;49m\u001b[43mrun_backward\u001b[49m\u001b[43m(\u001b[49m\n\u001b[1;32m    146\u001b[0m \u001b[43m    \u001b[49m\u001b[43mtensors\u001b[49m\u001b[43m,\u001b[49m\u001b[43m \u001b[49m\u001b[43mgrad_tensors_\u001b[49m\u001b[43m,\u001b[49m\u001b[43m \u001b[49m\u001b[43mretain_graph\u001b[49m\u001b[43m,\u001b[49m\u001b[43m \u001b[49m\u001b[43mcreate_graph\u001b[49m\u001b[43m,\u001b[49m\u001b[43m \u001b[49m\u001b[43minputs\u001b[49m\u001b[43m,\u001b[49m\n\u001b[1;32m    147\u001b[0m \u001b[43m    \u001b[49m\u001b[43mallow_unreachable\u001b[49m\u001b[38;5;241;43m=\u001b[39;49m\u001b[38;5;28;43;01mTrue\u001b[39;49;00m\u001b[43m,\u001b[49m\u001b[43m \u001b[49m\u001b[43maccumulate_grad\u001b[49m\u001b[38;5;241;43m=\u001b[39;49m\u001b[38;5;28;43;01mTrue\u001b[39;49;00m\u001b[43m)\u001b[49m\n",
      "\u001b[0;31mKeyboardInterrupt\u001b[0m: "
     ]
    }
   ],
   "source": [
    "for epoch in range(10):  # loop over the dataset multiple times\n",
    "\n",
    "    running_loss = 0.0\n",
    "    for i, data in tqdm(enumerate(trainloader, 0), total=len(trainset)):\n",
    "        # get the inputs; data is a list of [inputs, labels]\n",
    "        inputs, labels = data\n",
    "\n",
    "        # zero the parameter gradients\n",
    "        optimizer.zero_grad()\n",
    "\n",
    "        # forward + backward + optimize\n",
    "        outputs = net(inputs)\n",
    "        loss = criterion(outputs, labels)\n",
    "        loss.backward()\n",
    "        optimizer.step()\n",
    "\n",
    "        # print statistics\n",
    "        running_loss += loss.item()\n",
    "        if i % 2000 == 1999:    # print every 2000 mini-batches\n",
    "            print(f'[{epoch + 1}, {i + 1:5d}] loss: {running_loss / 2000:.3f}')\n",
    "            running_loss = 0.0\n",
    "\n",
    "print('Finished Training')"
   ]
  },
  {
   "cell_type": "markdown",
   "id": "ae8762ae",
   "metadata": {},
   "source": [
    "### Test Network"
   ]
  },
  {
   "cell_type": "code",
   "execution_count": 34,
   "id": "642fc457",
   "metadata": {},
   "outputs": [
    {
     "name": "stdout",
     "output_type": "stream",
     "text": [
      "Accuracy of the network on the 10000 test images: 68 %\n"
     ]
    }
   ],
   "source": [
    "correct = 0\n",
    "total = 0\n",
    "# since we're not training, we don't need to calculate the gradients for our outputs\n",
    "with torch.no_grad():\n",
    "    for data in testloader:\n",
    "        images, labels = data\n",
    "        # calculate outputs by running images through the network\n",
    "        outputs = net(images)\n",
    "        # the class with the highest energy is what we choose as prediction\n",
    "        _, predicted = torch.max(outputs.data, 1)\n",
    "        total += labels.size(0)\n",
    "        correct += (predicted == labels).sum().item()\n",
    "\n",
    "print(f'Accuracy of the network on the 10000 test images: {100 * correct // total} %')"
   ]
  },
  {
   "cell_type": "markdown",
   "id": "ed95a712",
   "metadata": {},
   "source": [
    "|epoch|acc|\n",
    "|:----:|:----:|\n",
    "|1|49%|\n",
    "|2|54%|\n",
    "|20|59%|"
   ]
  },
  {
   "cell_type": "markdown",
   "id": "17ed10a5",
   "metadata": {},
   "source": [
    "## Homework\n",
    "##### (1)阅读论文，并重写ResNet-50 （https://arxiv.org/abs/1512.03385）\n",
    "##### (2)阅读论文，使用VGG-16训练Ciffar-10. （https://arxiv.org/abs/1409.1556）"
   ]
  }
 ],
 "metadata": {
  "hide_input": false,
  "kernelspec": {
   "display_name": "Python 3 (ipykernel)",
   "language": "python",
   "name": "python3"
  },
  "language_info": {
   "codemirror_mode": {
    "name": "ipython",
    "version": 3
   },
   "file_extension": ".py",
   "mimetype": "text/x-python",
   "name": "python",
   "nbconvert_exporter": "python",
   "pygments_lexer": "ipython3",
   "version": "3.8.3"
  }
 },
 "nbformat": 4,
 "nbformat_minor": 5
}
